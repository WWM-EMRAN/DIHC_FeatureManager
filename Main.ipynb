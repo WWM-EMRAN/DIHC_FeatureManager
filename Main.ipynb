{
 "cells": [
  {
   "cell_type": "markdown",
   "metadata": {
    "collapsed": false,
    "pycharm": {
     "name": "#%% md\n"
    }
   },
   "source": "### Testing the DIHC Feature Manager Package"
  },
  {
   "metadata": {
    "ExecuteTime": {
     "end_time": "2025-08-07T22:58:16.606455Z",
     "start_time": "2025-08-07T22:58:16.603456Z"
    }
   },
   "cell_type": "code",
   "source": [
    "# %pip install ipywidgets tqdm\n",
    "# jupyter nbextension enable --py widgetsnbextension\n",
    "# !jupyter nbextension enable --py widgetsnbextension"
   ],
   "outputs": [],
   "execution_count": 1
  },
  {
   "metadata": {},
   "cell_type": "markdown",
   "source": "#### Settings and Data Reading"
  },
  {
   "cell_type": "markdown",
   "metadata": {
    "collapsed": false
   },
   "source": [
    "#####  Importing the package\n",
    "Load the package \"DIHC_FeatureManager\" which is in the same directory as this notebook (or your main python script/notebook)"
   ]
  },
  {
   "cell_type": "code",
   "metadata": {
    "collapsed": true,
    "ExecuteTime": {
     "end_time": "2025-08-07T22:58:27.182111Z",
     "start_time": "2025-08-07T22:58:17.935037Z"
    }
   },
   "source": [
    "# Importing necessary modules\n",
    "import numpy as np\n",
    "import pandas as pd\n",
    "from DIHC_FeatureManager.DIHC_FeatureManager import *"
   ],
   "outputs": [],
   "execution_count": 2
  },
  {
   "cell_type": "code",
   "metadata": {
    "ExecuteTime": {
     "end_time": "2025-08-07T22:58:27.475012Z",
     "start_time": "2025-08-07T22:58:27.471012Z"
    }
   },
   "source": [],
   "outputs": [],
   "execution_count": null
  },
  {
   "cell_type": "markdown",
   "metadata": {
    "collapsed": false
   },
   "source": [
    "##### Data loading\n",
    "Reading sample data from the file \"signal_data.csv\" which is in the same directory as this notebook (or your main python script/notebook)"
   ]
  },
  {
   "cell_type": "code",
   "metadata": {
    "collapsed": false,
    "pycharm": {
     "name": "#%%\n"
    },
    "ExecuteTime": {
     "end_time": "2025-08-07T22:58:27.821903Z",
     "start_time": "2025-08-07T22:58:27.486009Z"
    }
   },
   "source": [
    "print(f'Data reading started...')\n",
    "sample_df = pd.read_csv('./signal_data.csv')\n",
    "print(f'Data reading completed...')\n",
    "print(f\"Data read from file: \")\n",
    "sample_df"
   ],
   "outputs": [
    {
     "name": "stdout",
     "output_type": "stream",
     "text": [
      "Data reading started...\n",
      "Data reading completed...\n",
      "Data read from file: \n"
     ]
    },
    {
     "data": {
      "text/plain": [
       "           signal  label\n",
       "0      -17.777778      0\n",
       "1        0.195360      0\n",
       "2        0.195360      0\n",
       "3        0.586081      0\n",
       "4        0.195360      0\n",
       "...           ...    ...\n",
       "921595 -33.797314      0\n",
       "921596 -27.545788      0\n",
       "921597 -17.777778      0\n",
       "921598  -8.791209      0\n",
       "921599  -4.884005      0\n",
       "\n",
       "[921600 rows x 2 columns]"
      ],
      "text/html": [
       "<div>\n",
       "<style scoped>\n",
       "    .dataframe tbody tr th:only-of-type {\n",
       "        vertical-align: middle;\n",
       "    }\n",
       "\n",
       "    .dataframe tbody tr th {\n",
       "        vertical-align: top;\n",
       "    }\n",
       "\n",
       "    .dataframe thead th {\n",
       "        text-align: right;\n",
       "    }\n",
       "</style>\n",
       "<table border=\"1\" class=\"dataframe\">\n",
       "  <thead>\n",
       "    <tr style=\"text-align: right;\">\n",
       "      <th></th>\n",
       "      <th>signal</th>\n",
       "      <th>label</th>\n",
       "    </tr>\n",
       "  </thead>\n",
       "  <tbody>\n",
       "    <tr>\n",
       "      <th>0</th>\n",
       "      <td>-17.777778</td>\n",
       "      <td>0</td>\n",
       "    </tr>\n",
       "    <tr>\n",
       "      <th>1</th>\n",
       "      <td>0.195360</td>\n",
       "      <td>0</td>\n",
       "    </tr>\n",
       "    <tr>\n",
       "      <th>2</th>\n",
       "      <td>0.195360</td>\n",
       "      <td>0</td>\n",
       "    </tr>\n",
       "    <tr>\n",
       "      <th>3</th>\n",
       "      <td>0.586081</td>\n",
       "      <td>0</td>\n",
       "    </tr>\n",
       "    <tr>\n",
       "      <th>4</th>\n",
       "      <td>0.195360</td>\n",
       "      <td>0</td>\n",
       "    </tr>\n",
       "    <tr>\n",
       "      <th>...</th>\n",
       "      <td>...</td>\n",
       "      <td>...</td>\n",
       "    </tr>\n",
       "    <tr>\n",
       "      <th>921595</th>\n",
       "      <td>-33.797314</td>\n",
       "      <td>0</td>\n",
       "    </tr>\n",
       "    <tr>\n",
       "      <th>921596</th>\n",
       "      <td>-27.545788</td>\n",
       "      <td>0</td>\n",
       "    </tr>\n",
       "    <tr>\n",
       "      <th>921597</th>\n",
       "      <td>-17.777778</td>\n",
       "      <td>0</td>\n",
       "    </tr>\n",
       "    <tr>\n",
       "      <th>921598</th>\n",
       "      <td>-8.791209</td>\n",
       "      <td>0</td>\n",
       "    </tr>\n",
       "    <tr>\n",
       "      <th>921599</th>\n",
       "      <td>-4.884005</td>\n",
       "      <td>0</td>\n",
       "    </tr>\n",
       "  </tbody>\n",
       "</table>\n",
       "<p>921600 rows × 2 columns</p>\n",
       "</div>"
      ]
     },
     "execution_count": 3,
     "metadata": {},
     "output_type": "execute_result"
    }
   ],
   "execution_count": 3
  },
  {
   "cell_type": "code",
   "metadata": {
    "ExecuteTime": {
     "end_time": "2025-08-07T22:58:36.117244Z",
     "start_time": "2025-08-07T22:58:36.113247Z"
    }
   },
   "source": [],
   "outputs": [],
   "execution_count": null
  },
  {
   "cell_type": "markdown",
   "metadata": {
    "collapsed": false
   },
   "source": [
    "##### Data inspection\n",
    "Observing the column names, shape and other basic information of the data"
   ]
  },
  {
   "cell_type": "code",
   "metadata": {
    "collapsed": false,
    "pycharm": {
     "name": "#%%\n"
    },
    "ExecuteTime": {
     "end_time": "2025-08-07T22:58:42.418202Z",
     "start_time": "2025-08-07T22:58:42.395210Z"
    }
   },
   "source": [
    "print(f'Columns available in the dataframe: {sample_df.columns}')\n",
    "print(f'Columns available in the dataframe: {sample_df.shape}')\n",
    "print(f'Dataframe details: ')\n",
    "sample_df.info()"
   ],
   "outputs": [
    {
     "name": "stdout",
     "output_type": "stream",
     "text": [
      "Columns available in the dataframe: Index(['signal', 'label'], dtype='object')\n",
      "Columns available in the dataframe: (921600, 2)\n",
      "Dataframe details: \n",
      "<class 'pandas.core.frame.DataFrame'>\n",
      "RangeIndex: 921600 entries, 0 to 921599\n",
      "Data columns (total 2 columns):\n",
      " #   Column  Non-Null Count   Dtype  \n",
      "---  ------  --------------   -----  \n",
      " 0   signal  921600 non-null  float64\n",
      " 1   label   921600 non-null  int64  \n",
      "dtypes: float64(1), int64(1)\n",
      "memory usage: 14.1 MB\n"
     ]
    }
   ],
   "execution_count": 4
  },
  {
   "metadata": {
    "ExecuteTime": {
     "end_time": "2025-08-07T22:58:47.589549Z",
     "start_time": "2025-08-07T22:58:47.584551Z"
    }
   },
   "cell_type": "code",
   "source": "",
   "outputs": [],
   "execution_count": null
  },
  {
   "cell_type": "markdown",
   "metadata": {
    "collapsed": false
   },
   "source": [
    "##### Settings and partial sample data access\n",
    "This data file contains 3 columns: \"time\", \"signal\", and \"label\".\n",
    "Only the \"signal\" column that contains the (time series) data will be used for feature extraction.\n",
    "For simplicity only the first few seconds of the signal and few segments are used for feature extraction."
   ]
  },
  {
   "metadata": {
    "ExecuteTime": {
     "end_time": "2025-08-07T22:58:50.817553Z",
     "start_time": "2025-08-07T22:58:50.808523Z"
    }
   },
   "cell_type": "code",
   "source": [
    "# signal_frequency = 10\n",
    "# segment_length = 5\n",
    "# segment_overlap = 0\n",
    "# total_segments = 40000\n",
    "\n",
    "# signal_frequency = 32\n",
    "# segment_length = 90*60\n",
    "# segment_overlap = 0\n",
    "# total_segments = 4\n",
    "\n",
    "signal_frequency = 256\n",
    "segment_length = 5\n",
    "segment_overlap = 0\n",
    "total_segments = 4\n",
    "\n",
    "print(f\"Signal frequency: {signal_frequency} Hz \\nSegment length: {segment_length} s \\nSegment overlap: {segment_overlap} s \\nTotal segments: {total_segments}\")"
   ],
   "outputs": [
    {
     "name": "stdout",
     "output_type": "stream",
     "text": [
      "Signal frequency: 256 Hz \n",
      "Segment length: 5 s \n",
      "Segment overlap: 0 s \n",
      "Total segments: 4\n"
     ]
    }
   ],
   "execution_count": 5
  },
  {
   "cell_type": "code",
   "metadata": {
    "collapsed": false,
    "pycharm": {
     "name": "#%%\n"
    },
    "ExecuteTime": {
     "end_time": "2025-08-07T22:58:56.421726Z",
     "start_time": "2025-08-07T22:58:56.411728Z"
    }
   },
   "source": [
    "print(f'Data sub-sampling started...')\n",
    "# sample_data = np.array([52, 54, 6, 45, 14, 40, 42, 48, 52, 20, 28, 8, 63, 47, 23])\n",
    "\n",
    "# sample_data = sample_df['signal'].values.tolist()\n",
    "sample_data = sample_df.loc[:(total_segments*segment_length)*signal_frequency-1, 'signal'].values#.tolist()\n",
    "# sample_data = sample_df.loc[:(total_segments*segment_length)*signal_frequency-1, 'signal'].values#.tolist()\n",
    "# sample_data = sample_df.loc[:20*signal_frequency-1, 'signal'].values#.tolist()\n",
    "# sample_data = sample_df.loc[:5100, 'signal'].values#.tolist()\n",
    "# sample_data = sample_df.iloc[:20*256-1, 0:1].values#.tolist()\n",
    "# print(len(sample_data))\n",
    "# print(sample_data.shape, sample_data)\n",
    "print(f'Data sub-sampling completed...')\n",
    "\n",
    "print(f\"Sample data shape: {sample_data.shape}\")\n",
    "sample_data"
   ],
   "outputs": [
    {
     "name": "stdout",
     "output_type": "stream",
     "text": [
      "Data sub-sampling started...\n",
      "Data sub-sampling completed...\n",
      "Sample data shape: (5120,)\n"
     ]
    },
    {
     "data": {
      "text/plain": [
       "array([-17.77777778,   0.19536019,   0.19536019, ...,  -0.58608059,\n",
       "         0.19536019,  -0.19536019])"
      ]
     },
     "execution_count": 6,
     "metadata": {},
     "output_type": "execute_result"
    }
   ],
   "execution_count": 6
  },
  {
   "cell_type": "code",
   "metadata": {
    "ExecuteTime": {
     "end_time": "2025-08-07T22:59:04.749062Z",
     "start_time": "2025-08-07T22:59:04.744064Z"
    }
   },
   "source": "",
   "outputs": [],
   "execution_count": null
  },
  {
   "metadata": {},
   "cell_type": "markdown",
   "source": "#### Segmentation Test"
  },
  {
   "cell_type": "markdown",
   "metadata": {
    "collapsed": false
   },
   "source": [
    "##### Segmentation using `get_segments_for_data` function\n",
    "- Create the object of the class \"DIHC_FeatureManager\" and call the method \"get_segments_for_data\" to extract features from the data.\n",
    "- Use different parameters of the method \"get_segments_for_data\" to extract different number of segments."
   ]
  },
  {
   "cell_type": "code",
   "metadata": {
    "collapsed": false,
    "pycharm": {
     "name": "#%%\n"
    },
    "ExecuteTime": {
     "end_time": "2025-08-07T22:59:08.597831Z",
     "start_time": "2025-08-07T22:59:08.538849Z"
    }
   },
   "source": [
    "print(f'Data segmentation started...')\n",
    "\n",
    "feature_manager = DIHC_FeatureManager()\n",
    "segmented_data_array = feature_manager.get_segments_for_data(sample_data, segment_length=segment_length, segment_overlap=segment_overlap, signal_frequency=signal_frequency)\n",
    "# segmented_data_array = feature_manager.get_segments_for_data(sample_data, segment_length=5, signal_frequency=signal_frequency)\n",
    "# segmented_data_array = feature_manager.get_segments_for_data(sample_data, segment_length=5, segment_overlap=3, signal_frequency=signal_frequency)\n",
    "\n",
    "print(f'Data segmentation completed...')"
   ],
   "outputs": [
    {
     "name": "stdout",
     "output_type": "stream",
     "text": [
      "Data segmentation started...\n"
     ]
    },
    {
     "data": {
      "text/plain": [
       "Data segmentation started...:   0%|          | 0/4 [00:00<?, ?it/s]"
      ],
      "application/vnd.jupyter.widget-view+json": {
       "version_major": 2,
       "version_minor": 0,
       "model_id": "cfe71b192d334572a210e41c0bfb6134"
      }
     },
     "metadata": {},
     "output_type": "display_data"
    },
    {
     "data": {
      "text/plain": [
       "Finished segmentation of data...:   0%|          | 0/4 [00:00<?, ?it/s]"
      ],
      "application/vnd.jupyter.widget-view+json": {
       "version_major": 2,
       "version_minor": 0,
       "model_id": "401d81a3af21474ba5c35ec2d72f8cee"
      }
     },
     "metadata": {},
     "output_type": "display_data"
    },
    {
     "data": {
      "text/plain": [
       "Finished segmentation of data...:   0%|          | 0/4 [00:00<?, ?it/s]"
      ],
      "application/vnd.jupyter.widget-view+json": {
       "version_major": 2,
       "version_minor": 0,
       "model_id": "7458afaf6bbb4b9bb22b27c1a18c685e"
      }
     },
     "metadata": {},
     "output_type": "display_data"
    },
    {
     "name": "stdout",
     "output_type": "stream",
     "text": [
      "Data segmentation completed...\n"
     ]
    }
   ],
   "execution_count": 7
  },
  {
   "metadata": {
    "ExecuteTime": {
     "end_time": "2025-08-07T22:59:20.177128Z",
     "start_time": "2025-08-07T22:59:20.172130Z"
    }
   },
   "cell_type": "code",
   "source": "",
   "outputs": [],
   "execution_count": null
  },
  {
   "cell_type": "markdown",
   "metadata": {
    "collapsed": false
   },
   "source": [
    "##### Display the segmented data"
   ]
  },
  {
   "cell_type": "code",
   "metadata": {
    "collapsed": false,
    "pycharm": {
     "name": "#%%\n"
    },
    "ExecuteTime": {
     "end_time": "2025-08-07T22:59:24.987625Z",
     "start_time": "2025-08-07T22:59:24.978597Z"
    }
   },
   "source": [
    "print(f\"Segmented data array shape: {segmented_data_array.shape}\")\n",
    "print(f\"Extracted segments data: \")\n",
    "segmented_data_array"
   ],
   "outputs": [
    {
     "name": "stdout",
     "output_type": "stream",
     "text": [
      "Segmented data array shape: (4, 1280)\n",
      "Extracted segments data: \n"
     ]
    },
    {
     "data": {
      "text/plain": [
       "array([[-17.77777778,   0.19536019,   0.19536019, ..., -15.82417582,\n",
       "        -15.43345543, -18.94993895],\n",
       "       [-21.68498168, -18.94993895, -16.21489621, ...,  29.89010989,\n",
       "         42.002442  ,  50.5982906 ],\n",
       "       [ 59.97557998,  67.78998779,  74.43223443, ...,   0.58608059,\n",
       "          3.32112332,   4.88400488],\n",
       "       [  4.49328449,   2.93040293,   4.88400488, ...,  -0.58608059,\n",
       "          0.19536019,  -0.19536019]])"
      ]
     },
     "execution_count": 8,
     "metadata": {},
     "output_type": "execute_result"
    }
   ],
   "execution_count": 8
  },
  {
   "cell_type": "code",
   "metadata": {
    "collapsed": false,
    "pycharm": {
     "name": "#%%\n"
    },
    "ExecuteTime": {
     "end_time": "2025-08-07T22:59:32.478197Z",
     "start_time": "2025-08-07T22:59:32.474201Z"
    }
   },
   "source": [],
   "outputs": [],
   "execution_count": null
  },
  {
   "metadata": {},
   "cell_type": "markdown",
   "source": "#### Feature Extraction Test"
  },
  {
   "cell_type": "markdown",
   "metadata": {
    "collapsed": false
   },
   "source": [
    "##### Feature extraction using `extract_features_from_data` function\n",
    "- Create the object of the class \"DIHC_FeatureManager\" and call the method \"extract_features_from_data\" to extract features from the data\n",
    "- Use different parameters of the method \"extract_features_from_data\" to extract different features\n",
    "- Additionally can remove some computationally expensive features to save time and/or solve the memory exhaustion problem for larger segments"
   ]
  },
  {
   "metadata": {},
   "cell_type": "markdown",
   "source": "###### Select features and/or remove computationally expensive features"
  },
  {
   "metadata": {
    "ExecuteTime": {
     "end_time": "2025-08-07T22:59:40.702568Z",
     "start_time": "2025-08-07T22:59:40.695596Z"
    }
   },
   "cell_type": "code",
   "source": [
    "# Comment of uncommenting the following line to remove computationally expensive features\n",
    "\n",
    "# feature_names = None  ###For all features- None works similarly as [DIHC_FeatureGroup.all]\n",
    "# feature_names = [DIHC_FeatureGroup.tdNl, DIHC_FeatureGroup.fdLin]  ###For some specific features- in this case, Time-domain non-linear and frequency domain linear features\n",
    "feature_names = DIHC_FeatureGroup.remove_computationally_expensive_features( comp_exp_list_index=4 ) ###For all features, except the level-4 computationally expensive ones\n",
    "# feature_names = DIHC_FeatureGroup.remove_computationally_expensive_features( feature_list=[DIHC_FeatureGroup.tdNl, DIHC_FeatureGroup.fdLin], comp_exp_list_index=4 ) ###For some specific features- in this case, Time-domain non-linear and frequency domain linear features, except the level-4 computationally expensive ones\n",
    "\n",
    "print(f\"Final feature list: {feature_names}\")"
   ],
   "outputs": [
    {
     "name": "stdout",
     "output_type": "stream",
     "text": [
      "Final feature list: [<DIHC_FeatureGroup.all: ['maximum', 'minimum', 'mean', 'median', 'standardDeviation', 'variance', 'kurtosis', 'skewness', 'numberOfZeroCrossing', 'positiveToNegativeSampleRatio', 'positiveToNegativePeakRatio', 'meanAbsoluteValue', 'approximateEntropy', 'sampleEntropy', 'permutationEntropy', 'singularValueDecompositionEntropy', 'fuzzyEntropy', 'shannonEntropy', 'renyiEntropy', 'lempelZivComplexity', 'hjorthMobility', 'hjorthComplexity', 'fisherInfo', 'petrosianFd', 'katzFd', 'higuchiFd', 'detrendedFluctuation', 'fd_maximum', 'fd_minimum', 'fd_mean', 'fd_median', 'fd_standardDeviation', 'fd_variance', 'fd_kurtosis', 'fd_skewness', 'fd_maximum_alpha', 'fd_minimum_alpha', 'fd_mean_alpha', 'fd_median_alpha', 'fd_standardDeviation_alpha', 'fd_variance_alpha', 'fd_kurtosis_alpha', 'fd_skewness_alpha', 'fd_maximum_beta', 'fd_minimum_beta', 'fd_mean_beta', 'fd_median_beta', 'fd_standardDeviation_beta', 'fd_variance_beta', 'fd_kurtosis_beta', 'fd_skewness_beta', 'fd_maximum_delta', 'fd_minimum_delta', 'fd_mean_delta', 'fd_median_delta', 'fd_standardDeviation_delta', 'fd_variance_delta', 'fd_kurtosis_delta', 'fd_skewness_delta', 'fd_maximum_theta', 'fd_minimum_theta', 'fd_mean_theta', 'fd_median_theta', 'fd_standardDeviation_theta', 'fd_variance_theta', 'fd_kurtosis_theta', 'fd_skewness_theta', 'fd_maximum_gamma', 'fd_minimum_gamma', 'fd_mean_gamma', 'fd_median_gamma', 'fd_standardDeviation_gamma', 'fd_variance_gamma', 'fd_kurtosis_gamma', 'fd_skewness_gamma', 'spectralEntropy']>]\n"
     ]
    }
   ],
   "execution_count": 9
  },
  {
   "cell_type": "code",
   "metadata": {
    "collapsed": false,
    "pycharm": {
     "name": "#%%\n"
    },
    "ExecuteTime": {
     "end_time": "2025-08-07T22:59:59.609529Z",
     "start_time": "2025-08-07T22:59:49.996595Z"
    }
   },
   "source": [
    "print(f'Feature extraction started...')\n",
    "\n",
    "feature_manager = DIHC_FeatureManager()\n",
    "feature_df = pd.DataFrame()\n",
    "\n",
    "if feature_names is None:\n",
    "    feature_df = feature_manager.extract_features_from_data(sample_data, segment_length=segment_length, segment_overlap=segment_overlap, signal_frequency=signal_frequency)\n",
    "else:\n",
    "    feature_df = feature_manager.extract_features_from_data(sample_data, feature_names=feature_names, segment_length=segment_length, segment_overlap=segment_overlap, signal_frequency=signal_frequency)\n",
    "# feature_df = feature_manager.extract_features_from_data(sample_data, segment_length=segment_length, segment_overlap=segment_overlap, signal_frequency=signal_frequency)\n",
    "# feature_df = feature_manager.extract_features_from_data(sample_data, segment_length=5, signal_frequency=signal_frequency)\n",
    "# feature_df = feature_manager.extract_features_from_data(sample_data, segment_length=5, segment_overlap=4, signal_frequency=signal_frequency)\n",
    "# feature_df = feature_manager.extract_features_from_data(sample_data, feature_names=[DIHC_FeatureGroup.fdNlPw, DIHC_FeatureGroup.fdNlPwBnd], segment_length=5, signal_frequency=signal_frequency)\n",
    "# feature_df = feature_manager.extract_features_from_data(sample_data, feature_names=[DIHC_FeatureGroup.tdNlEn, DIHC_FeatureGroup.td], segment_length=5, signal_frequency=signal_frequency)\n",
    "# feature_df = feature_manager.extract_features_from_data(sample_data, feature_names=[DIHC_FeatureGroup.tdNlEn, DIHC_FeatureGroup.tdNl], segment_length=5, signal_frequency=signal_frequency)\n",
    "\n",
    "print(f'Feature extraction completed...')"
   ],
   "outputs": [
    {
     "name": "stdout",
     "output_type": "stream",
     "text": [
      "Feature extraction started...\n",
      "Data started segmenting for features: [<DIHC_FeatureGroup.all: ['maximum', 'minimum', 'mean', 'median', 'standardDeviation', 'variance', 'kurtosis', 'skewness', 'numberOfZeroCrossing', 'positiveToNegativeSampleRatio', 'positiveToNegativePeakRatio', 'meanAbsoluteValue', 'approximateEntropy', 'sampleEntropy', 'permutationEntropy', 'singularValueDecompositionEntropy', 'fuzzyEntropy', 'shannonEntropy', 'renyiEntropy', 'lempelZivComplexity', 'hjorthMobility', 'hjorthComplexity', 'fisherInfo', 'petrosianFd', 'katzFd', 'higuchiFd', 'detrendedFluctuation', 'fd_maximum', 'fd_minimum', 'fd_mean', 'fd_median', 'fd_standardDeviation', 'fd_variance', 'fd_kurtosis', 'fd_skewness', 'fd_maximum_alpha', 'fd_minimum_alpha', 'fd_mean_alpha', 'fd_median_alpha', 'fd_standardDeviation_alpha', 'fd_variance_alpha', 'fd_kurtosis_alpha', 'fd_skewness_alpha', 'fd_maximum_beta', 'fd_minimum_beta', 'fd_mean_beta', 'fd_median_beta', 'fd_standardDeviation_beta', 'fd_variance_beta', 'fd_kurtosis_beta', 'fd_skewness_beta', 'fd_maximum_delta', 'fd_minimum_delta', 'fd_mean_delta', 'fd_median_delta', 'fd_standardDeviation_delta', 'fd_variance_delta', 'fd_kurtosis_delta', 'fd_skewness_delta', 'fd_maximum_theta', 'fd_minimum_theta', 'fd_mean_theta', 'fd_median_theta', 'fd_standardDeviation_theta', 'fd_variance_theta', 'fd_kurtosis_theta', 'fd_skewness_theta', 'fd_maximum_gamma', 'fd_minimum_gamma', 'fd_mean_gamma', 'fd_median_gamma', 'fd_standardDeviation_gamma', 'fd_variance_gamma', 'fd_kurtosis_gamma', 'fd_skewness_gamma', 'spectralEntropy']>]\n"
     ]
    },
    {
     "data": {
      "text/plain": [
       "Feature extraction started...:   0%|          | 0/4 [00:00<?, ?it/s]"
      ],
      "application/vnd.jupyter.widget-view+json": {
       "version_major": 2,
       "version_minor": 0,
       "model_id": "b6d296f8001f4c8388d5a6bcd2af0c15"
      }
     },
     "metadata": {},
     "output_type": "display_data"
    },
    {
     "data": {
      "text/plain": [
       "Feature extraction started...:   0%|          | 0/76 [00:00<?, ?it/s]"
      ],
      "application/vnd.jupyter.widget-view+json": {
       "version_major": 2,
       "version_minor": 0,
       "model_id": "b4c87993746f4d8b9821898fdae4e951"
      }
     },
     "metadata": {},
     "output_type": "display_data"
    },
    {
     "data": {
      "text/plain": [
       "Feature extraction started...:   0%|          | 0/76 [00:00<?, ?it/s]"
      ],
      "application/vnd.jupyter.widget-view+json": {
       "version_major": 2,
       "version_minor": 0,
       "model_id": "e4dbabcdd501466a85a3da25e826526c"
      }
     },
     "metadata": {},
     "output_type": "display_data"
    },
    {
     "data": {
      "text/plain": [
       "Feature extraction started...:   0%|          | 0/76 [00:00<?, ?it/s]"
      ],
      "application/vnd.jupyter.widget-view+json": {
       "version_major": 2,
       "version_minor": 0,
       "model_id": "0e676ab6da144fd69b1a7cb64659887e"
      }
     },
     "metadata": {},
     "output_type": "display_data"
    },
    {
     "data": {
      "text/plain": [
       "Feature extraction started...:   0%|          | 0/76 [00:00<?, ?it/s]"
      ],
      "application/vnd.jupyter.widget-view+json": {
       "version_major": 2,
       "version_minor": 0,
       "model_id": "29aeefcaf6654900a37c54f48ad03be1"
      }
     },
     "metadata": {},
     "output_type": "display_data"
    },
    {
     "data": {
      "text/plain": [
       "Finished extracting features for all segments...:   0%|          | 0/4 [00:00<?, ?it/s]"
      ],
      "application/vnd.jupyter.widget-view+json": {
       "version_major": 2,
       "version_minor": 0,
       "model_id": "902229e25ea54c35b39c5f880bbf36c3"
      }
     },
     "metadata": {},
     "output_type": "display_data"
    },
    {
     "data": {
      "text/plain": [
       "Finished extracting features for all segments...:   0%|          | 0/4 [00:00<?, ?it/s]"
      ],
      "application/vnd.jupyter.widget-view+json": {
       "version_major": 2,
       "version_minor": 0,
       "model_id": "be4c1f041bf54cfbb26ffa851116b4ee"
      }
     },
     "metadata": {},
     "output_type": "display_data"
    },
    {
     "name": "stdout",
     "output_type": "stream",
     "text": [
      "Feature extraction completed...\n"
     ]
    }
   ],
   "execution_count": 10
  },
  {
   "cell_type": "code",
   "metadata": {
    "ExecuteTime": {
     "end_time": "2025-08-07T23:00:09.715289Z",
     "start_time": "2025-08-07T23:00:09.711290Z"
    }
   },
   "source": [],
   "outputs": [],
   "execution_count": null
  },
  {
   "metadata": {},
   "cell_type": "markdown",
   "source": "##### Display all features"
  },
  {
   "cell_type": "code",
   "metadata": {
    "collapsed": false,
    "pycharm": {
     "name": "#%%\n"
    },
    "ExecuteTime": {
     "end_time": "2025-08-07T23:00:13.465133Z",
     "start_time": "2025-08-07T23:00:13.416143Z"
    }
   },
   "source": [
    "print(f\"For a total of {feature_df.shape[0]} segments, {feature_df.shape[1]} features were extracted\")\n",
    "print(f\"The name of the features are: {feature_df.columns}\")\n",
    "print(f\"Extracted features: \")\n",
    "feature_df\n"
   ],
   "outputs": [
    {
     "name": "stdout",
     "output_type": "stream",
     "text": [
      "For a total of 4 segments, 76 features were extracted\n",
      "The name of the features are: Index(['maximum', 'minimum', 'mean', 'median', 'standardDeviation', 'variance',\n",
      "       'kurtosis', 'skewness', 'numberOfZeroCrossing',\n",
      "       'positiveToNegativeSampleRatio', 'positiveToNegativePeakRatio',\n",
      "       'meanAbsoluteValue', 'approximateEntropy', 'sampleEntropy',\n",
      "       'permutationEntropy', 'singularValueDecompositionEntropy',\n",
      "       'fuzzyEntropy', 'shannonEntropy', 'renyiEntropy', 'lempelZivComplexity',\n",
      "       'hjorthMobility', 'hjorthComplexity', 'fisherInfo', 'petrosianFd',\n",
      "       'katzFd', 'higuchiFd', 'detrendedFluctuation', 'fd_maximum',\n",
      "       'fd_minimum', 'fd_mean', 'fd_median', 'fd_standardDeviation',\n",
      "       'fd_variance', 'fd_kurtosis', 'fd_skewness', 'fd_maximum_alpha',\n",
      "       'fd_minimum_alpha', 'fd_mean_alpha', 'fd_median_alpha',\n",
      "       'fd_standardDeviation_alpha', 'fd_variance_alpha', 'fd_kurtosis_alpha',\n",
      "       'fd_skewness_alpha', 'fd_maximum_beta', 'fd_minimum_beta',\n",
      "       'fd_mean_beta', 'fd_median_beta', 'fd_standardDeviation_beta',\n",
      "       'fd_variance_beta', 'fd_kurtosis_beta', 'fd_skewness_beta',\n",
      "       'fd_maximum_delta', 'fd_minimum_delta', 'fd_mean_delta',\n",
      "       'fd_median_delta', 'fd_standardDeviation_delta', 'fd_variance_delta',\n",
      "       'fd_kurtosis_delta', 'fd_skewness_delta', 'fd_maximum_theta',\n",
      "       'fd_minimum_theta', 'fd_mean_theta', 'fd_median_theta',\n",
      "       'fd_standardDeviation_theta', 'fd_variance_theta', 'fd_kurtosis_theta',\n",
      "       'fd_skewness_theta', 'fd_maximum_gamma', 'fd_minimum_gamma',\n",
      "       'fd_mean_gamma', 'fd_median_gamma', 'fd_standardDeviation_gamma',\n",
      "       'fd_variance_gamma', 'fd_kurtosis_gamma', 'fd_skewness_gamma',\n",
      "       'spectralEntropy'],\n",
      "      dtype='object')\n",
      "Extracted features: \n"
     ]
    },
    {
     "data": {
      "text/plain": [
       "   maximum  minimum  mean  median  standardDeviation  variance  kurtosis  \\\n",
       "0    67.79   -88.11  0.44    0.20              27.23    741.72      0.14   \n",
       "1    92.01   -81.86  2.73    2.74              26.46    700.24      0.18   \n",
       "2    96.70  -133.43 -3.39   -2.54              35.90   1288.69      0.90   \n",
       "3    62.32   -66.62  2.58    2.93              23.42    548.52      0.20   \n",
       "\n",
       "   skewness  numberOfZeroCrossing  positiveToNegativeSampleRatio  ...  \\\n",
       "0     -0.33                  86.0                           1.04  ...   \n",
       "1      0.02                  77.0                           1.16  ...   \n",
       "2     -0.08                  82.0                           0.89  ...   \n",
       "3     -0.23                 107.0                           1.35  ...   \n",
       "\n",
       "   fd_skewness_theta  fd_maximum_gamma  fd_minimum_gamma  fd_mean_gamma  \\\n",
       "0               0.22           7304.63             64.79        1324.17   \n",
       "1               0.70           5466.18             39.44        1173.54   \n",
       "2               0.06           9289.86             50.07        1675.66   \n",
       "3               0.25           5741.63             37.50        1103.65   \n",
       "\n",
       "   fd_median_gamma  fd_standardDeviation_gamma  fd_variance_gamma  \\\n",
       "0           757.75                     1414.10         1999673.39   \n",
       "1           874.03                     1058.23         1119851.09   \n",
       "2          1001.09                     1690.16         2856644.69   \n",
       "3           748.27                     1120.48         1255472.71   \n",
       "\n",
       "   fd_kurtosis_gamma  fd_skewness_gamma  spectralEntropy  \n",
       "0               4.19               1.96             3.59  \n",
       "1               3.99               1.79             3.69  \n",
       "2               4.43               1.80             3.57  \n",
       "3               5.98               2.23             3.80  \n",
       "\n",
       "[4 rows x 76 columns]"
      ],
      "text/html": [
       "<div>\n",
       "<style scoped>\n",
       "    .dataframe tbody tr th:only-of-type {\n",
       "        vertical-align: middle;\n",
       "    }\n",
       "\n",
       "    .dataframe tbody tr th {\n",
       "        vertical-align: top;\n",
       "    }\n",
       "\n",
       "    .dataframe thead th {\n",
       "        text-align: right;\n",
       "    }\n",
       "</style>\n",
       "<table border=\"1\" class=\"dataframe\">\n",
       "  <thead>\n",
       "    <tr style=\"text-align: right;\">\n",
       "      <th></th>\n",
       "      <th>maximum</th>\n",
       "      <th>minimum</th>\n",
       "      <th>mean</th>\n",
       "      <th>median</th>\n",
       "      <th>standardDeviation</th>\n",
       "      <th>variance</th>\n",
       "      <th>kurtosis</th>\n",
       "      <th>skewness</th>\n",
       "      <th>numberOfZeroCrossing</th>\n",
       "      <th>positiveToNegativeSampleRatio</th>\n",
       "      <th>...</th>\n",
       "      <th>fd_skewness_theta</th>\n",
       "      <th>fd_maximum_gamma</th>\n",
       "      <th>fd_minimum_gamma</th>\n",
       "      <th>fd_mean_gamma</th>\n",
       "      <th>fd_median_gamma</th>\n",
       "      <th>fd_standardDeviation_gamma</th>\n",
       "      <th>fd_variance_gamma</th>\n",
       "      <th>fd_kurtosis_gamma</th>\n",
       "      <th>fd_skewness_gamma</th>\n",
       "      <th>spectralEntropy</th>\n",
       "    </tr>\n",
       "  </thead>\n",
       "  <tbody>\n",
       "    <tr>\n",
       "      <th>0</th>\n",
       "      <td>67.79</td>\n",
       "      <td>-88.11</td>\n",
       "      <td>0.44</td>\n",
       "      <td>0.20</td>\n",
       "      <td>27.23</td>\n",
       "      <td>741.72</td>\n",
       "      <td>0.14</td>\n",
       "      <td>-0.33</td>\n",
       "      <td>86.0</td>\n",
       "      <td>1.04</td>\n",
       "      <td>...</td>\n",
       "      <td>0.22</td>\n",
       "      <td>7304.63</td>\n",
       "      <td>64.79</td>\n",
       "      <td>1324.17</td>\n",
       "      <td>757.75</td>\n",
       "      <td>1414.10</td>\n",
       "      <td>1999673.39</td>\n",
       "      <td>4.19</td>\n",
       "      <td>1.96</td>\n",
       "      <td>3.59</td>\n",
       "    </tr>\n",
       "    <tr>\n",
       "      <th>1</th>\n",
       "      <td>92.01</td>\n",
       "      <td>-81.86</td>\n",
       "      <td>2.73</td>\n",
       "      <td>2.74</td>\n",
       "      <td>26.46</td>\n",
       "      <td>700.24</td>\n",
       "      <td>0.18</td>\n",
       "      <td>0.02</td>\n",
       "      <td>77.0</td>\n",
       "      <td>1.16</td>\n",
       "      <td>...</td>\n",
       "      <td>0.70</td>\n",
       "      <td>5466.18</td>\n",
       "      <td>39.44</td>\n",
       "      <td>1173.54</td>\n",
       "      <td>874.03</td>\n",
       "      <td>1058.23</td>\n",
       "      <td>1119851.09</td>\n",
       "      <td>3.99</td>\n",
       "      <td>1.79</td>\n",
       "      <td>3.69</td>\n",
       "    </tr>\n",
       "    <tr>\n",
       "      <th>2</th>\n",
       "      <td>96.70</td>\n",
       "      <td>-133.43</td>\n",
       "      <td>-3.39</td>\n",
       "      <td>-2.54</td>\n",
       "      <td>35.90</td>\n",
       "      <td>1288.69</td>\n",
       "      <td>0.90</td>\n",
       "      <td>-0.08</td>\n",
       "      <td>82.0</td>\n",
       "      <td>0.89</td>\n",
       "      <td>...</td>\n",
       "      <td>0.06</td>\n",
       "      <td>9289.86</td>\n",
       "      <td>50.07</td>\n",
       "      <td>1675.66</td>\n",
       "      <td>1001.09</td>\n",
       "      <td>1690.16</td>\n",
       "      <td>2856644.69</td>\n",
       "      <td>4.43</td>\n",
       "      <td>1.80</td>\n",
       "      <td>3.57</td>\n",
       "    </tr>\n",
       "    <tr>\n",
       "      <th>3</th>\n",
       "      <td>62.32</td>\n",
       "      <td>-66.62</td>\n",
       "      <td>2.58</td>\n",
       "      <td>2.93</td>\n",
       "      <td>23.42</td>\n",
       "      <td>548.52</td>\n",
       "      <td>0.20</td>\n",
       "      <td>-0.23</td>\n",
       "      <td>107.0</td>\n",
       "      <td>1.35</td>\n",
       "      <td>...</td>\n",
       "      <td>0.25</td>\n",
       "      <td>5741.63</td>\n",
       "      <td>37.50</td>\n",
       "      <td>1103.65</td>\n",
       "      <td>748.27</td>\n",
       "      <td>1120.48</td>\n",
       "      <td>1255472.71</td>\n",
       "      <td>5.98</td>\n",
       "      <td>2.23</td>\n",
       "      <td>3.80</td>\n",
       "    </tr>\n",
       "  </tbody>\n",
       "</table>\n",
       "<p>4 rows × 76 columns</p>\n",
       "</div>"
      ]
     },
     "execution_count": 11,
     "metadata": {},
     "output_type": "execute_result"
    }
   ],
   "execution_count": 11
  },
  {
   "metadata": {
    "ExecuteTime": {
     "end_time": "2025-08-07T23:00:17.371882Z",
     "start_time": "2025-08-07T23:00:17.367891Z"
    }
   },
   "cell_type": "code",
   "source": "",
   "outputs": [],
   "execution_count": null
  },
  {
   "metadata": {},
   "cell_type": "markdown",
   "source": "##### Save all features"
  },
  {
   "cell_type": "code",
   "metadata": {
    "collapsed": false,
    "pycharm": {
     "name": "#%%\n"
    },
    "ExecuteTime": {
     "end_time": "2025-08-07T23:00:23.342935Z",
     "start_time": "2025-08-07T23:00:23.337936Z"
    }
   },
   "source": [
    "# # save_file_path = './all_features_matlab.csv'\n",
    "# save_file_path = './all_features_python.csv'\n",
    "# feature_df.to_csv(save_file_path, index=False)\n",
    "# print(f\"All features successfully saved to: {save_file_path}\")"
   ],
   "outputs": [],
   "execution_count": 12
  },
  {
   "cell_type": "code",
   "metadata": {
    "ExecuteTime": {
     "end_time": "2025-08-07T23:00:27.236691Z",
     "start_time": "2025-08-07T23:00:27.232690Z"
    }
   },
   "source": [],
   "outputs": [],
   "execution_count": null
  },
  {
   "metadata": {},
   "cell_type": "markdown",
   "source": "#### Entropy (SampEn) Profile Test"
  },
  {
   "cell_type": "markdown",
   "metadata": {
    "collapsed": false
   },
   "source": [
    "##### Sample Entropy (SampEn) Profile extraction\n",
    "- Create the object of the class \"DIHC_FeatureManager\" and call the method \"extract_sampEn_profile_from_data\" to extract Sample entropy (SampEn) profile from the data\n",
    "- Use different parameters of the method \"extract_sampEn_profile_from_data\" to extract entropy profile for Sample entropy (SampEn)"
   ]
  },
  {
   "cell_type": "code",
   "metadata": {
    "collapsed": false,
    "ExecuteTime": {
     "end_time": "2025-08-07T23:00:43.127633Z",
     "start_time": "2025-08-07T23:00:31.757241Z"
    }
   },
   "source": [
    "print(f'Entropy profile extraction started...')\n",
    "\n",
    "feature_manager = DIHC_FeatureManager()\n",
    "\n",
    "sampEn_Profile_df = feature_manager.extract_sampEn_profile_from_data(sample_data, segment_length=segment_length, segment_overlap=segment_overlap, signal_frequency=signal_frequency)\n",
    "# sampEn_Profile_df = feature_manager.extract_sampEn_profile_from_data(sample_data, segment_length=5, signal_frequency=signal_frequency)\n",
    "# sampEn_Profile_df = feature_manager.extract_sampEn_profile_from_data(sample_data, segment_length=5, signal_frequency=signal_frequency)\n",
    "# sampEn_Profile_df = feature_manager.extract_sampEn_profile_from_data(sample_data, segment_length=5, signal_frequency=signal_frequency)\n",
    "# sampEn_Profile_df = feature_manager.extract_sampEn_profile_from_data(sample_data, segment_length=5, segment_overlap=0, signal_frequency=signal_frequency)\n",
    "\n",
    "print(f'Entropy profile extraction completed...')"
   ],
   "outputs": [
    {
     "name": "stdout",
     "output_type": "stream",
     "text": [
      "Entropy profile extraction started...\n",
      "Entropy profile calculation started...\n"
     ]
    },
    {
     "data": {
      "text/plain": [
       "Entropy profile calculation started...:   0%|          | 0/4 [00:00<?, ?it/s]"
      ],
      "application/vnd.jupyter.widget-view+json": {
       "version_major": 2,
       "version_minor": 0,
       "model_id": "9ae5347064f54e5aa180c36a514e944f"
      }
     },
     "metadata": {},
     "output_type": "display_data"
    },
    {
     "name": "stdout",
     "output_type": "stream",
     "text": [
      "Entropy profile extraction completed...\n"
     ]
    }
   ],
   "execution_count": 13
  },
  {
   "metadata": {
    "ExecuteTime": {
     "end_time": "2025-08-07T23:00:43.189590Z",
     "start_time": "2025-08-07T23:00:43.185624Z"
    }
   },
   "cell_type": "code",
   "source": "",
   "outputs": [],
   "execution_count": null
  },
  {
   "metadata": {},
   "cell_type": "markdown",
   "source": "##### Display entropy profile data"
  },
  {
   "cell_type": "code",
   "metadata": {
    "collapsed": false,
    "ExecuteTime": {
     "end_time": "2025-08-07T23:00:43.215611Z",
     "start_time": "2025-08-07T23:00:43.200587Z"
    }
   },
   "source": [
    "print(f\"SampEn entropy profile shape: {sampEn_Profile_df.shape}\")\n",
    "print(f\"SampEn entropy profile values: \")\n",
    "sampEn_Profile_df"
   ],
   "outputs": [
    {
     "name": "stdout",
     "output_type": "stream",
     "text": [
      "SampEn entropy profile shape: (1722, 2)\n",
      "SampEn entropy profile values: \n"
     ]
    },
    {
     "data": {
      "text/plain": [
       "      Segment_No  sampEn_profile\n",
       "0              1        3.595747\n",
       "1              1        2.218863\n",
       "2              1        1.868785\n",
       "3              1        1.579396\n",
       "4              1        1.368360\n",
       "...          ...             ...\n",
       "1717           4        0.000006\n",
       "1718           4        0.000004\n",
       "1719           4        0.000002\n",
       "1720           4        0.000001\n",
       "1721           4        0.000000\n",
       "\n",
       "[1722 rows x 2 columns]"
      ],
      "text/html": [
       "<div>\n",
       "<style scoped>\n",
       "    .dataframe tbody tr th:only-of-type {\n",
       "        vertical-align: middle;\n",
       "    }\n",
       "\n",
       "    .dataframe tbody tr th {\n",
       "        vertical-align: top;\n",
       "    }\n",
       "\n",
       "    .dataframe thead th {\n",
       "        text-align: right;\n",
       "    }\n",
       "</style>\n",
       "<table border=\"1\" class=\"dataframe\">\n",
       "  <thead>\n",
       "    <tr style=\"text-align: right;\">\n",
       "      <th></th>\n",
       "      <th>Segment_No</th>\n",
       "      <th>sampEn_profile</th>\n",
       "    </tr>\n",
       "  </thead>\n",
       "  <tbody>\n",
       "    <tr>\n",
       "      <th>0</th>\n",
       "      <td>1</td>\n",
       "      <td>3.595747</td>\n",
       "    </tr>\n",
       "    <tr>\n",
       "      <th>1</th>\n",
       "      <td>1</td>\n",
       "      <td>2.218863</td>\n",
       "    </tr>\n",
       "    <tr>\n",
       "      <th>2</th>\n",
       "      <td>1</td>\n",
       "      <td>1.868785</td>\n",
       "    </tr>\n",
       "    <tr>\n",
       "      <th>3</th>\n",
       "      <td>1</td>\n",
       "      <td>1.579396</td>\n",
       "    </tr>\n",
       "    <tr>\n",
       "      <th>4</th>\n",
       "      <td>1</td>\n",
       "      <td>1.368360</td>\n",
       "    </tr>\n",
       "    <tr>\n",
       "      <th>...</th>\n",
       "      <td>...</td>\n",
       "      <td>...</td>\n",
       "    </tr>\n",
       "    <tr>\n",
       "      <th>1717</th>\n",
       "      <td>4</td>\n",
       "      <td>0.000006</td>\n",
       "    </tr>\n",
       "    <tr>\n",
       "      <th>1718</th>\n",
       "      <td>4</td>\n",
       "      <td>0.000004</td>\n",
       "    </tr>\n",
       "    <tr>\n",
       "      <th>1719</th>\n",
       "      <td>4</td>\n",
       "      <td>0.000002</td>\n",
       "    </tr>\n",
       "    <tr>\n",
       "      <th>1720</th>\n",
       "      <td>4</td>\n",
       "      <td>0.000001</td>\n",
       "    </tr>\n",
       "    <tr>\n",
       "      <th>1721</th>\n",
       "      <td>4</td>\n",
       "      <td>0.000000</td>\n",
       "    </tr>\n",
       "  </tbody>\n",
       "</table>\n",
       "<p>1722 rows × 2 columns</p>\n",
       "</div>"
      ]
     },
     "execution_count": 14,
     "metadata": {},
     "output_type": "execute_result"
    }
   ],
   "execution_count": 14
  },
  {
   "metadata": {
    "ExecuteTime": {
     "end_time": "2025-08-07T23:00:43.293586Z",
     "start_time": "2025-08-07T23:00:43.290585Z"
    }
   },
   "cell_type": "code",
   "source": "",
   "outputs": [],
   "execution_count": null
  },
  {
   "metadata": {},
   "cell_type": "markdown",
   "source": "##### Save entropy profile data"
  },
  {
   "metadata": {
    "ExecuteTime": {
     "end_time": "2025-08-07T23:00:49.576544Z",
     "start_time": "2025-08-07T23:00:49.572545Z"
    }
   },
   "cell_type": "code",
   "source": [
    "# # save_file_path = './sampEn_profile_data_matlab.csv'\n",
    "# save_file_path = './sampEn_profile_data_python.csv'\n",
    "# sampEn_Profile_df.to_csv(save_file_path, index=False)\n",
    "# print(f\"SamEn profile data successfully saved to: {save_file_path}\")"
   ],
   "outputs": [],
   "execution_count": 15
  },
  {
   "metadata": {
    "ExecuteTime": {
     "end_time": "2025-08-07T23:00:53.449305Z",
     "start_time": "2025-08-07T23:00:53.444306Z"
    }
   },
   "cell_type": "code",
   "source": "",
   "outputs": [],
   "execution_count": null
  },
  {
   "metadata": {
    "ExecuteTime": {
     "end_time": "2025-08-07T23:00:57.462053Z",
     "start_time": "2025-08-07T23:00:57.459057Z"
    }
   },
   "cell_type": "code",
   "source": "",
   "outputs": [],
   "execution_count": null
  }
 ],
 "metadata": {
  "kernelspec": {
   "display_name": "Python 3",
   "language": "python",
   "name": "python3"
  },
  "language_info": {
   "codemirror_mode": {
    "name": "ipython",
    "version": 3
   },
   "file_extension": ".py",
   "mimetype": "text/x-python",
   "name": "python",
   "nbconvert_exporter": "python",
   "pygments_lexer": "ipython3",
   "version": "3.7.10"
  }
 },
 "nbformat": 4,
 "nbformat_minor": 0
}
